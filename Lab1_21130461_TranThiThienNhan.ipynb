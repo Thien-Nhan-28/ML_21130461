{
  "nbformat": 4,
  "nbformat_minor": 0,
  "metadata": {
    "colab": {
      "provenance": [],
      "authorship_tag": "ABX9TyPvzlugpv17C5K1NKF2U5AH",
      "include_colab_link": true
    },
    "kernelspec": {
      "name": "python3",
      "display_name": "Python 3"
    },
    "language_info": {
      "name": "python"
    }
  },
  "cells": [
    {
      "cell_type": "markdown",
      "metadata": {
        "id": "view-in-github",
        "colab_type": "text"
      },
      "source": [
        "<a href=\"https://colab.research.google.com/github/Thien-Nhan-28/ML_21130461/blob/main/Lab1_21130461_TranThiThienNhan.ipynb\" target=\"_parent\"><img src=\"https://colab.research.google.com/assets/colab-badge.svg\" alt=\"Open In Colab\"/></a>"
      ]
    },
    {
      "cell_type": "markdown",
      "source": [
        "Task 1.1"
      ],
      "metadata": {
        "id": "qVz2tV7e-vIK"
      }
    },
    {
      "cell_type": "code",
      "execution_count": 8,
      "metadata": {
        "colab": {
          "base_uri": "https://localhost:8080/"
        },
        "id": "0UrsJG7L7U7C",
        "outputId": "fd214f8b-f0c1-4560-9554-f2c66ab87348"
      },
      "outputs": [
        {
          "output_type": "stream",
          "name": "stdout",
          "text": [
            "So chu so duoc nhap vao: 3\n",
            "Nhập giá trị cho số thứ 1: 1\n",
            "Nhập giá trị cho số thứ 2: 2\n",
            "Nhập giá trị cho số thứ 3: 3\n",
            "Max elemnt is: 3\n",
            "Min element is: 1\n",
            "Sum element is: 6\n",
            "Listed Sort [1, 2, 3]\n",
            "Number of positive elements : 3\n",
            "Number of negative elements : 0\n"
          ]
        }
      ],
      "source": [
        "def main():\n",
        "  n =int(input(\"So chu so duoc nhap vao: \"))\n",
        "  L =[]\n",
        "  for i in range(n):\n",
        "    number = int(input(f\"Nhập giá trị cho số thứ {i+1}: \"  ))\n",
        "    L.append(number)\n",
        "  max_element_inL = max(L)\n",
        "  min_element_inL = min(L)\n",
        "  sum_element_inL = sum(L)\n",
        "\n",
        "  print(f\"Max elemnt is: {max_element_inL}\")\n",
        "  print(f\"Min element is: {min_element_inL}\")\n",
        "  print(f\"Sum element is: {sum_element_inL}\")\n",
        "\n",
        "  L.sort()\n",
        "  print(\"Listed Sort\", L)\n",
        "\n",
        "  positive_count = sum(1 for num in L if num > 0)\n",
        "  negative_count = sum(1 for num in L if num < 0)\n",
        "\n",
        "  print(f\"Number of positive elements : {positive_count}\")\n",
        "  print(f\"Number of negative elements : {negative_count}\")\n",
        "\n",
        "if __name__ == \"__main__\":\n",
        "  main()"
      ]
    },
    {
      "cell_type": "markdown",
      "source": [
        "Task 1.2"
      ],
      "metadata": {
        "id": "XlDo3WZ0BGMv"
      }
    },
    {
      "cell_type": "code",
      "source": [
        "def S(n):\n",
        "  re =0\n",
        "  num = 1\n",
        "  for i in range(1, n+1):\n",
        "    num*=i\n",
        "    re+=num\n",
        "  return re\n",
        "print(\"Công thức: S(n)=1+1.2+1.2.3+…+1.2.3…n, n>0\")\n",
        "n =int(input(\"Nhập số n > 0 : \"))\n",
        "if n>0:\n",
        "  sum = S(n)\n",
        "  print(\"Tổng = \",sum)\n",
        "else:\n",
        "  print(\"Chữ số được nhập vào phải lớn hơn 0\")"
      ],
      "metadata": {
        "colab": {
          "base_uri": "https://localhost:8080/"
        },
        "id": "CzCUR4mm72e9",
        "outputId": "4bc386bf-02e4-4d7a-b289-30eb62673b24"
      },
      "execution_count": 14,
      "outputs": [
        {
          "output_type": "stream",
          "name": "stdout",
          "text": [
            "Công thức: S(n)=1+1.2+1.2.3+…+1.2.3…n, n>0\n",
            "Nhập số n > 0 : 3\n",
            "Tổng =  9\n"
          ]
        }
      ]
    },
    {
      "cell_type": "markdown",
      "source": [
        "Task 1.3"
      ],
      "metadata": {
        "id": "Eg0DXW7qEVZG"
      }
    },
    {
      "cell_type": "code",
      "source": [
        "class Account:\n",
        "  def __init__(self,name, email, country, friends : list, posts : list):\n",
        "    self.__name = name\n",
        "    self.__email = email\n",
        "    self.__country = country\n",
        "    self.__friends = friends\n",
        "    self.__post = posts\n",
        "\n",
        "class Post:\n",
        "  def __init__(self, content, subject, likes):\n",
        "    self.__content = content\n",
        "    self.__subject = subject\n",
        "    self.__likes = likes"
      ],
      "metadata": {
        "id": "FWrvK5n-EU3q"
      },
      "execution_count": null,
      "outputs": []
    }
  ]
}